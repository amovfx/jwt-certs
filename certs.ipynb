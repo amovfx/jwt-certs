{
 "cells": [
  {
   "cell_type": "code",
   "execution_count": 1,
   "metadata": {},
   "outputs": [],
   "source": [
    "import python_jwt as jwt, jwcrypto.jwk as jwk, datetime\n",
    "import jwt as jsonwt"
   ]
  },
  {
   "cell_type": "code",
   "execution_count": 2,
   "metadata": {},
   "outputs": [],
   "source": [
    "key = jwk.JWK.generate(kty='RSA', size=2048)\n",
    "priv_pem = key.export_to_pem(private_key=True, password=None)\n",
    "pub_pem = key.export_to_pem()"
   ]
  },
  {
   "cell_type": "code",
   "execution_count": 4,
   "metadata": {},
   "outputs": [
    {
     "data": {
      "text/plain": [
       "451"
      ]
     },
     "execution_count": 4,
     "metadata": {},
     "output_type": "execute_result"
    }
   ],
   "source": [
    "open('priv.pem', 'w').write(priv_pem.decode())\n",
    "open('pub.pem', 'w').write(pub_pem.decode())\n"
   ]
  },
  {
   "cell_type": "code",
   "execution_count": 30,
   "metadata": {},
   "outputs": [],
   "source": [
    "priv_pem = open(\"key.pem\",'rb').read()\n",
    "public_pem = open(\"public.pem\", 'rb').read()"
   ]
  },
  {
   "cell_type": "code",
   "execution_count": 21,
   "metadata": {},
   "outputs": [],
   "source": [
    "payload = {'uid':'andrew'}"
   ]
  },
  {
   "cell_type": "code",
   "execution_count": 22,
   "metadata": {},
   "outputs": [],
   "source": [
    "import jwcrypto.jwk as jwk"
   ]
  },
  {
   "cell_type": "code",
   "execution_count": null,
   "metadata": {},
   "outputs": [],
   "source": []
  },
  {
   "cell_type": "code",
   "execution_count": 33,
   "metadata": {},
   "outputs": [],
   "source": [
    "priv_key = jwk.JWK.from_pem(priv_pem)\n",
    "pub_key = jwk.JWK.from_pem(pub_pem)"
   ]
  },
  {
   "cell_type": "code",
   "execution_count": 48,
   "metadata": {},
   "outputs": [],
   "source": [
    "keys = {\"keys\": [pub_key.export(as_dict=True)]}"
   ]
  },
  {
   "cell_type": "code",
   "execution_count": 49,
   "metadata": {},
   "outputs": [],
   "source": [
    "import json\n",
    "with open('api_secret.jwk', 'w') as jwk_file:\n",
    "    jwk_file.write(json.dumps(keys, indent=4))\n",
    "\n"
   ]
  },
  {
   "cell_type": "code",
   "execution_count": null,
   "metadata": {},
   "outputs": [],
   "source": []
  }
 ],
 "metadata": {
  "kernelspec": {
   "display_name": "Python 3.9.12 ('fast-api-jwt')",
   "language": "python",
   "name": "python3"
  },
  "language_info": {
   "codemirror_mode": {
    "name": "ipython",
    "version": 3
   },
   "file_extension": ".py",
   "mimetype": "text/x-python",
   "name": "python",
   "nbconvert_exporter": "python",
   "pygments_lexer": "ipython3",
   "version": "3.9.12"
  },
  "orig_nbformat": 4,
  "vscode": {
   "interpreter": {
    "hash": "9ae3b1421c79f28de2c857db6b2f17a74e34ca78092f5b08e1288b4668de99d0"
   }
  }
 },
 "nbformat": 4,
 "nbformat_minor": 2
}
